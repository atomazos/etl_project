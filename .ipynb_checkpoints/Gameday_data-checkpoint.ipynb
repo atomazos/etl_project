{
 "cells": [
  {
   "cell_type": "code",
   "execution_count": 1,
   "metadata": {},
   "outputs": [],
   "source": [
    "import pandas as pd"
   ]
  },
  {
   "cell_type": "code",
   "execution_count": 2,
   "metadata": {},
   "outputs": [
    {
     "data": {
      "text/html": [
       "<div>\n",
       "<style scoped>\n",
       "    .dataframe tbody tr th:only-of-type {\n",
       "        vertical-align: middle;\n",
       "    }\n",
       "\n",
       "    .dataframe tbody tr th {\n",
       "        vertical-align: top;\n",
       "    }\n",
       "\n",
       "    .dataframe thead th {\n",
       "        text-align: right;\n",
       "    }\n",
       "</style>\n",
       "<table border=\"1\" class=\"dataframe\">\n",
       "  <thead>\n",
       "    <tr style=\"text-align: right;\">\n",
       "      <th></th>\n",
       "      <th>type</th>\n",
       "      <th>game_id</th>\n",
       "      <th>home_team</th>\n",
       "      <th>away_team</th>\n",
       "      <th>week</th>\n",
       "      <th>season</th>\n",
       "      <th>state_of_game</th>\n",
       "      <th>game_url</th>\n",
       "      <th>home_score</th>\n",
       "      <th>away_score</th>\n",
       "    </tr>\n",
       "  </thead>\n",
       "  <tbody>\n",
       "    <tr>\n",
       "      <th>0</th>\n",
       "      <td>reg</td>\n",
       "      <td>20090910</td>\n",
       "      <td>PIT</td>\n",
       "      <td>TEN</td>\n",
       "      <td>1</td>\n",
       "      <td>2009</td>\n",
       "      <td>POST</td>\n",
       "      <td>http://www.nfl.com/liveupdate/game-center/2009...</td>\n",
       "      <td>13</td>\n",
       "      <td>10</td>\n",
       "    </tr>\n",
       "    <tr>\n",
       "      <th>1</th>\n",
       "      <td>reg</td>\n",
       "      <td>20090913</td>\n",
       "      <td>CLE</td>\n",
       "      <td>MIN</td>\n",
       "      <td>1</td>\n",
       "      <td>2009</td>\n",
       "      <td>POST</td>\n",
       "      <td>http://www.nfl.com/liveupdate/game-center/2009...</td>\n",
       "      <td>20</td>\n",
       "      <td>34</td>\n",
       "    </tr>\n",
       "    <tr>\n",
       "      <th>2</th>\n",
       "      <td>reg</td>\n",
       "      <td>20090913</td>\n",
       "      <td>NO</td>\n",
       "      <td>DET</td>\n",
       "      <td>1</td>\n",
       "      <td>2009</td>\n",
       "      <td>POST</td>\n",
       "      <td>http://www.nfl.com/liveupdate/game-center/2009...</td>\n",
       "      <td>45</td>\n",
       "      <td>27</td>\n",
       "    </tr>\n",
       "    <tr>\n",
       "      <th>3</th>\n",
       "      <td>reg</td>\n",
       "      <td>20090913</td>\n",
       "      <td>TB</td>\n",
       "      <td>DAL</td>\n",
       "      <td>1</td>\n",
       "      <td>2009</td>\n",
       "      <td>POST</td>\n",
       "      <td>http://www.nfl.com/liveupdate/game-center/2009...</td>\n",
       "      <td>21</td>\n",
       "      <td>34</td>\n",
       "    </tr>\n",
       "    <tr>\n",
       "      <th>4</th>\n",
       "      <td>reg</td>\n",
       "      <td>20090913</td>\n",
       "      <td>HOU</td>\n",
       "      <td>NYJ</td>\n",
       "      <td>1</td>\n",
       "      <td>2009</td>\n",
       "      <td>POST</td>\n",
       "      <td>http://www.nfl.com/liveupdate/game-center/2009...</td>\n",
       "      <td>7</td>\n",
       "      <td>24</td>\n",
       "    </tr>\n",
       "  </tbody>\n",
       "</table>\n",
       "</div>"
      ],
      "text/plain": [
       "  type   game_id home_team away_team  week  season state_of_game  \\\n",
       "0  reg  20090910       PIT       TEN     1    2009          POST   \n",
       "1  reg  20090913       CLE       MIN     1    2009          POST   \n",
       "2  reg  20090913        NO       DET     1    2009          POST   \n",
       "3  reg  20090913        TB       DAL     1    2009          POST   \n",
       "4  reg  20090913       HOU       NYJ     1    2009          POST   \n",
       "\n",
       "                                            game_url  home_score  away_score  \n",
       "0  http://www.nfl.com/liveupdate/game-center/2009...          13          10  \n",
       "1  http://www.nfl.com/liveupdate/game-center/2009...          20          34  \n",
       "2  http://www.nfl.com/liveupdate/game-center/2009...          45          27  \n",
       "3  http://www.nfl.com/liveupdate/game-center/2009...          21          34  \n",
       "4  http://www.nfl.com/liveupdate/game-center/2009...           7          24  "
      ]
     },
     "execution_count": 2,
     "metadata": {},
     "output_type": "execute_result"
    }
   ],
   "source": [
    "%store -r gameinfo_df\n",
    "gameinfo_df.head()"
   ]
  },
  {
   "cell_type": "code",
   "execution_count": 3,
   "metadata": {
    "scrolled": true
   },
   "outputs": [
    {
     "data": {
      "text/html": [
       "<div>\n",
       "<style scoped>\n",
       "    .dataframe tbody tr th:only-of-type {\n",
       "        vertical-align: middle;\n",
       "    }\n",
       "\n",
       "    .dataframe tbody tr th {\n",
       "        vertical-align: top;\n",
       "    }\n",
       "\n",
       "    .dataframe thead th {\n",
       "        text-align: right;\n",
       "    }\n",
       "</style>\n",
       "<table border=\"1\" class=\"dataframe\">\n",
       "  <thead>\n",
       "    <tr style=\"text-align: right;\">\n",
       "      <th></th>\n",
       "      <th>id</th>\n",
       "      <th>home_team</th>\n",
       "      <th>home_score</th>\n",
       "      <th>away_team</th>\n",
       "      <th>away_score</th>\n",
       "      <th>temperature</th>\n",
       "      <th>wind_chill</th>\n",
       "      <th>humidity</th>\n",
       "      <th>wind_mph</th>\n",
       "      <th>weather</th>\n",
       "      <th>date</th>\n",
       "      <th>date2</th>\n",
       "    </tr>\n",
       "  </thead>\n",
       "  <tbody>\n",
       "    <tr>\n",
       "      <th>10073</th>\n",
       "      <td>200901030crd</td>\n",
       "      <td>Arizona Cardinals</td>\n",
       "      <td>30</td>\n",
       "      <td>Atlanta Falcons</td>\n",
       "      <td>24</td>\n",
       "      <td>72</td>\n",
       "      <td>NaN</td>\n",
       "      <td>NaN</td>\n",
       "      <td>NaN</td>\n",
       "      <td>72 degrees- no wind</td>\n",
       "      <td>1/3/2009</td>\n",
       "      <td>2009-01-03</td>\n",
       "    </tr>\n",
       "    <tr>\n",
       "      <th>10074</th>\n",
       "      <td>200901030sdg</td>\n",
       "      <td>San Diego Chargers</td>\n",
       "      <td>23</td>\n",
       "      <td>Indianapolis Colts</td>\n",
       "      <td>17</td>\n",
       "      <td>54</td>\n",
       "      <td>NaN</td>\n",
       "      <td>78%</td>\n",
       "      <td>7.0</td>\n",
       "      <td>54 degrees- relative humidity 78%- wind 7 mph</td>\n",
       "      <td>1/3/2009</td>\n",
       "      <td>2009-01-03</td>\n",
       "    </tr>\n",
       "    <tr>\n",
       "      <th>10075</th>\n",
       "      <td>200901040min</td>\n",
       "      <td>Minnesota Vikings</td>\n",
       "      <td>14</td>\n",
       "      <td>Philadelphia Eagles</td>\n",
       "      <td>26</td>\n",
       "      <td>72</td>\n",
       "      <td>NaN</td>\n",
       "      <td>NaN</td>\n",
       "      <td>NaN</td>\n",
       "      <td>72 degrees- no wind</td>\n",
       "      <td>1/4/2009</td>\n",
       "      <td>2009-01-04</td>\n",
       "    </tr>\n",
       "    <tr>\n",
       "      <th>10076</th>\n",
       "      <td>200901040mia</td>\n",
       "      <td>Miami Dolphins</td>\n",
       "      <td>9</td>\n",
       "      <td>Baltimore Ravens</td>\n",
       "      <td>27</td>\n",
       "      <td>74</td>\n",
       "      <td>NaN</td>\n",
       "      <td>72%</td>\n",
       "      <td>10.0</td>\n",
       "      <td>74 degrees- relative humidity 72%- wind 10 mph</td>\n",
       "      <td>1/4/2009</td>\n",
       "      <td>2009-01-04</td>\n",
       "    </tr>\n",
       "    <tr>\n",
       "      <th>10077</th>\n",
       "      <td>200901100oti</td>\n",
       "      <td>Tennessee Titans</td>\n",
       "      <td>10</td>\n",
       "      <td>Baltimore Ravens</td>\n",
       "      <td>13</td>\n",
       "      <td>53</td>\n",
       "      <td>NaN</td>\n",
       "      <td>68%</td>\n",
       "      <td>12.0</td>\n",
       "      <td>53 degrees- relative humidity 68%- wind 12 mph</td>\n",
       "      <td>1/10/2009</td>\n",
       "      <td>2009-01-10</td>\n",
       "    </tr>\n",
       "  </tbody>\n",
       "</table>\n",
       "</div>"
      ],
      "text/plain": [
       "                 id           home_team  home_score            away_team  \\\n",
       "10073  200901030crd   Arizona Cardinals          30      Atlanta Falcons   \n",
       "10074  200901030sdg  San Diego Chargers          23   Indianapolis Colts   \n",
       "10075  200901040min   Minnesota Vikings          14  Philadelphia Eagles   \n",
       "10076  200901040mia      Miami Dolphins           9     Baltimore Ravens   \n",
       "10077  200901100oti    Tennessee Titans          10     Baltimore Ravens   \n",
       "\n",
       "       away_score  temperature  wind_chill humidity  wind_mph  \\\n",
       "10073          24           72         NaN      NaN       NaN   \n",
       "10074          17           54         NaN      78%       7.0   \n",
       "10075          26           72         NaN      NaN       NaN   \n",
       "10076          27           74         NaN      72%      10.0   \n",
       "10077          13           53         NaN      68%      12.0   \n",
       "\n",
       "                                              weather       date      date2  \n",
       "10073                             72 degrees- no wind   1/3/2009 2009-01-03  \n",
       "10074   54 degrees- relative humidity 78%- wind 7 mph   1/3/2009 2009-01-03  \n",
       "10075                             72 degrees- no wind   1/4/2009 2009-01-04  \n",
       "10076  74 degrees- relative humidity 72%- wind 10 mph   1/4/2009 2009-01-04  \n",
       "10077  53 degrees- relative humidity 68%- wind 12 mph  1/10/2009 2009-01-10  "
      ]
     },
     "execution_count": 3,
     "metadata": {},
     "output_type": "execute_result"
    }
   ],
   "source": [
    "%store -r nfl_weather_df\n",
    "nfl_weather_df.head()"
   ]
  },
  {
   "cell_type": "code",
   "execution_count": 4,
   "metadata": {
    "scrolled": true
   },
   "outputs": [
    {
     "name": "stdout",
     "output_type": "stream",
     "text": [
      "no stored variable team_lookup\n"
     ]
    },
    {
     "ename": "NameError",
     "evalue": "name 'team_lookup' is not defined",
     "output_type": "error",
     "traceback": [
      "\u001b[0;31m---------------------------------------------------------------------------\u001b[0m",
      "\u001b[0;31mNameError\u001b[0m                                 Traceback (most recent call last)",
      "\u001b[0;32m<ipython-input-4-0ff8fd10f704>\u001b[0m in \u001b[0;36m<module>\u001b[0;34m\u001b[0m\n\u001b[1;32m      1\u001b[0m \u001b[0mget_ipython\u001b[0m\u001b[0;34m(\u001b[0m\u001b[0;34m)\u001b[0m\u001b[0;34m.\u001b[0m\u001b[0mrun_line_magic\u001b[0m\u001b[0;34m(\u001b[0m\u001b[0;34m'store'\u001b[0m\u001b[0;34m,\u001b[0m \u001b[0;34m'-r team_lookup'\u001b[0m\u001b[0;34m)\u001b[0m\u001b[0;34m\u001b[0m\u001b[0;34m\u001b[0m\u001b[0m\n\u001b[0;32m----> 2\u001b[0;31m \u001b[0mteam_lookup\u001b[0m\u001b[0;34m.\u001b[0m\u001b[0mhead\u001b[0m\u001b[0;34m(\u001b[0m\u001b[0;34m)\u001b[0m\u001b[0;34m\u001b[0m\u001b[0;34m\u001b[0m\u001b[0m\n\u001b[0m",
      "\u001b[0;31mNameError\u001b[0m: name 'team_lookup' is not defined"
     ]
    }
   ],
   "source": [
    "%store -r team_lookup\n",
    "team_lookup.head()"
   ]
  },
  {
   "cell_type": "code",
   "execution_count": null,
   "metadata": {},
   "outputs": [],
   "source": [
    "home_abbrev_df = nfl_weather_df.merge(team_lookup, left_on='home_team', right_on='fullname', how = 'left')\n",
    "home_abbrev_df.head()"
   ]
  },
  {
   "cell_type": "code",
   "execution_count": null,
   "metadata": {},
   "outputs": [],
   "source": [
    "#gameday_merge_df = roster_df.merge(right = df2, on = ['first_name', 'last_name'], how = 'left')"
   ]
  },
  {
   "cell_type": "markdown",
   "metadata": {},
   "source": [
    "##  Complete Tables"
   ]
  },
  {
   "cell_type": "code",
   "execution_count": null,
   "metadata": {
    "scrolled": true
   },
   "outputs": [],
   "source": [
    "gameinfo_df['unique_ID'] = gameinfo_df['game_id'].astype(str) + gameinfo_df['home_team']\n",
    "gameinfo_df.head()"
   ]
  },
  {
   "cell_type": "code",
   "execution_count": null,
   "metadata": {
    "scrolled": true
   },
   "outputs": [],
   "source": [
    "home_abbrev_df['unique_ID'] = home_abbrev_df['date_string'].astype(str) + home_abbrev_df['abbr_name']\n",
    "home_abbrev_df.head()"
   ]
  },
  {
   "cell_type": "markdown",
   "metadata": {},
   "source": [
    "## Merge Tables"
   ]
  },
  {
   "cell_type": "code",
   "execution_count": null,
   "metadata": {},
   "outputs": [],
   "source": [
    "gameday_data_df = gameinfo_df.merge(home_abbrev_df, left_on='unique_ID', right_on='unique_ID', how = 'left')"
   ]
  },
  {
   "cell_type": "code",
   "execution_count": null,
   "metadata": {
    "scrolled": true
   },
   "outputs": [],
   "source": [
    "pd.set_option('display.max_columns', None)\n",
    "gameday_data_df"
   ]
  },
  {
   "cell_type": "markdown",
   "metadata": {},
   "source": [
    "## Table Cleanup"
   ]
  },
  {
   "cell_type": "code",
   "execution_count": null,
   "metadata": {},
   "outputs": [],
   "source": [
    "gameday_data2_df = gameday_data_df.drop(columns=['id', 'fullname', 'abbr_name'])\n",
    "gameday_data2_df"
   ]
  },
  {
   "cell_type": "code",
   "execution_count": null,
   "metadata": {},
   "outputs": [],
   "source": [
    "%store -r gameday_data2_df\n"
   ]
  },
  {
   "cell_type": "code",
   "execution_count": null,
   "metadata": {},
   "outputs": [],
   "source": []
  }
 ],
 "metadata": {
  "kernelspec": {
   "display_name": "Python 3",
   "language": "python",
   "name": "python3"
  },
  "language_info": {
   "codemirror_mode": {
    "name": "ipython",
    "version": 3
   },
   "file_extension": ".py",
   "mimetype": "text/x-python",
   "name": "python",
   "nbconvert_exporter": "python",
   "pygments_lexer": "ipython3",
   "version": "3.7.3"
  }
 },
 "nbformat": 4,
 "nbformat_minor": 2
}
